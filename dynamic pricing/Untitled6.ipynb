{
 "cells": [
  {
   "cell_type": "code",
   "execution_count": 251,
   "id": "8bd4416e",
   "metadata": {},
   "outputs": [],
   "source": [
    "import pandas as pd\n",
    "import numpy as np\n",
    "from sklearn.ensemble import RandomForestRegressor\n",
    "from IPython.display import display\n",
    "from sklearn.model_selection import train_test_split\n",
    "from sklearn import metrics"
   ]
  },
  {
   "cell_type": "markdown",
   "id": "5e58c86b",
   "metadata": {},
   "source": [
    "# Reading data and prepare model inputs"
   ]
  },
  {
   "cell_type": "code",
   "execution_count": 253,
   "id": "ed23f59d",
   "metadata": {},
   "outputs": [],
   "source": [
    "def process_training_data(fileName):\n",
    "    \n",
    "    df =pd.read_csv('{}.csv'.format(fileName))\n",
    "    \n",
    "    df['output_date'] = df['output_date'].astype('datetime64') #convert output_date column type from object to datetime\n",
    "    df['output_date'] = df['output_date'].values.astype('float64') #convert to float to be suitable for the model\n",
    "\n",
    "    \n",
    "    \n",
    "    \n",
    "    return df"
   ]
  },
  {
   "cell_type": "code",
   "execution_count": 252,
   "id": "08fb3aff",
   "metadata": {},
   "outputs": [],
   "source": [
    "def split_data(df):\n",
    "    train_ratio = 0.80\n",
    "    test_ratio = 0.20\n",
    "    \n",
    "    df_x = df.drop('output_own_price',axis=1)\n",
    "    df_y = df['output_own_price']\n",
    "    \n",
    "    x_train, x_test, y_train, y_test = train_test_split(df_x, df_y, test_size=1 - train_ratio)\n",
    "    \n",
    "    \n",
    "    return x_train,y_train,x_test,y_test"
   ]
  },
  {
   "cell_type": "markdown",
   "id": "dc190787",
   "metadata": {},
   "source": [
    "# Model training"
   ]
  },
  {
   "cell_type": "code",
   "execution_count": 255,
   "id": "1ceac435",
   "metadata": {},
   "outputs": [],
   "source": [
    "def train_model():\n",
    "    m = RandomForestRegressor(n_jobs=-1,oob_score=True)\n",
    "    m.fit(x_train,y_train)\n",
    "    return m"
   ]
  },
  {
   "cell_type": "markdown",
   "id": "c1dea96d",
   "metadata": {},
   "source": [
    "# predicting price"
   ]
  },
  {
   "cell_type": "code",
   "execution_count": 257,
   "id": "fd0e1c59",
   "metadata": {},
   "outputs": [],
   "source": [
    "def predict_price():\n",
    "    p = m.predict(x_test)\n",
    "    return p"
   ]
  },
  {
   "cell_type": "markdown",
   "id": "e46fb14f",
   "metadata": {},
   "source": [
    "# Evaluation"
   ]
  },
  {
   "cell_type": "code",
   "execution_count": 267,
   "id": "f44ffaaa",
   "metadata": {},
   "outputs": [],
   "source": [
    "def Evaluate(y_pred):\n",
    "     \n",
    "    print('Mean Absolute Error:', metrics.mean_absolute_error(y_test, y_pred))\n",
    "    print('Mean Squared Error:', metrics.mean_squared_error(y_test, y_pred))\n",
    "    print('Root Mean Squared Error:', np.sqrt(metrics.mean_squared_error(y_test, y_pred)))\n",
    "    print('----------------------------------------------------------------------------')\n",
    "    print('Model accuracy: ',m.score(x_test,y_test))"
   ]
  },
  {
   "cell_type": "markdown",
   "id": "df3d4ecc",
   "metadata": {},
   "source": [
    "# Main\n"
   ]
  },
  {
   "cell_type": "code",
   "execution_count": 269,
   "id": "2c3c0d13",
   "metadata": {},
   "outputs": [
    {
     "name": "stdout",
     "output_type": "stream",
     "text": [
      "[7.1467 7.3569 7.2068 7.2122 6.7073 6.9843 7.1855 7.1319 7.0888]\n",
      "Mean Absolute Error: 0.028835388127853932\n",
      "Mean Squared Error: 0.001510105826991381\n",
      "Root Mean Squared Error: 0.038860080120753496\n",
      "----------------------------------------------------------------------------\n",
      "Model accuracy:  0.96404828131493\n"
     ]
    }
   ],
   "source": [
    "output_data = process_training_data('output_data')             # put file name between quotes \n",
    "x_train,y_train,x_test,y_test = split_data(output_data)        # split data to train and test model performance\n",
    "\n",
    "m = train_model()                                              # train model\n",
    "\n",
    "predictions= predict_price()                                   #predict prices\n",
    "\n",
    "\n",
    "Evaluate(predictions)                                          # calculate model performance"
   ]
  },
  {
   "cell_type": "code",
   "execution_count": null,
   "id": "1e73ddf9",
   "metadata": {},
   "outputs": [],
   "source": []
  }
 ],
 "metadata": {
  "kernelspec": {
   "display_name": "Python 3 (ipykernel)",
   "language": "python",
   "name": "python3"
  },
  "language_info": {
   "codemirror_mode": {
    "name": "ipython",
    "version": 3
   },
   "file_extension": ".py",
   "mimetype": "text/x-python",
   "name": "python",
   "nbconvert_exporter": "python",
   "pygments_lexer": "ipython3",
   "version": "3.9.12"
  }
 },
 "nbformat": 4,
 "nbformat_minor": 5
}
